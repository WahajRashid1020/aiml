{
 "cells": [
  {
   "cell_type": "code",
   "execution_count": 4,
   "metadata": {},
   "outputs": [
    {
     "name": "stdout",
     "output_type": "stream",
     "text": [
      "                                                   text                spam\n",
      "4080  Subject: re : one more thing  clayton ,  i agr...  NOT A SPAM COMMENT\n",
      "5025  Subject: re : mba polish speakers  does he kno...  NOT A SPAM COMMENT\n",
      "1457  Subject: dear ms . feldman ,  please find encl...  NOT A SPAM COMMENT\n",
      "2607  Subject: houston trip  hi jaideep !  my first ...  NOT A SPAM COMMENT\n",
      "2492  Subject: visiting enron may 4 th  christie ,  ...  NOT A SPAM COMMENT\n",
      "203   Subject: spamassassin . taint . org  i discove...        SPAM COMMENT\n",
      "4474  Subject: iv for rama gatiganti rm fifth floor ...  NOT A SPAM COMMENT\n",
      "3923  Subject: re : f / u to dr . kaminski @ enron f...  NOT A SPAM COMMENT\n",
      "5481  Subject: in confidence / project status  hi vi...  NOT A SPAM COMMENT\n",
      "1892  Subject: california 1 / 17 / 01 pt . ii  one o...  NOT A SPAM COMMENT\n",
      "888   Subject: save your money by getting an oem sof...        SPAM COMMENT\n",
      "2979  Subject: executive program on credit risk mode...  NOT A SPAM COMMENT\n",
      "5246  Subject: fw : mark boland - cv  vince : tony v...  NOT A SPAM COMMENT\n",
      "5614  Subject: option visualization  vince and stins...  NOT A SPAM COMMENT\n",
      "1922  Subject: a visit  professor vincent kaminski  ...  NOT A SPAM COMMENT\n",
      "Accuracy: 0.9843\n",
      "['SPAM COMMENT']\n"
     ]
    }
   ],
   "source": [
    "import pandas as pd\n",
    "import numpy as np\n",
    "from sklearn.feature_extraction.text import CountVectorizer\n",
    "from sklearn.model_selection import train_test_split\n",
    "from sklearn.svm import SVC\n",
    "from sklearn.metrics import accuracy_score\n",
    "\n",
    "# Load the dataset\n",
    "data = pd.read_csv(\"emails.csv\") \n",
    "\n",
    "# Keep only the required columns\n",
    "data = data[['text', 'spam']]\n",
    "\n",
    "# Map 0 to 'NOT A SPAM COMMENT' and 1 to 'SPAM COMMENT'\n",
    "data[\"spam\"] = data['spam'].map({0: 'NOT A SPAM COMMENT', 1: 'SPAM COMMENT'})\n",
    "print(data.sample(15))\n",
    "\n",
    "# Prepare the features and labels\n",
    "x = np.array(data['text'])\n",
    "y = np.array(data['spam'])\n",
    "\n",
    "# Convert text data into numerical data using CountVectorizer\n",
    "cv = CountVectorizer()\n",
    "x = cv.fit_transform(x)\n",
    "\n",
    "# Split the dataset into training and testing sets\n",
    "x_train, x_test, y_train, y_test = train_test_split(x, y, test_size=0.2, random_state=42)\n",
    "\n",
    "# Initialize and train the SVM model\n",
    "model = SVC(kernel='linear')  # Using linear kernel for simplicity\n",
    "model.fit(x_train, y_train)\n",
    "\n",
    "# Evaluate the model\n",
    "y_pred = model.predict(x_test)\n",
    "accuracy = accuracy_score(y_test, y_pred)\n",
    "print(f\"Accuracy: {accuracy:.4f}\")\n",
    "\n",
    "# Predict the class of a new comment\n",
    "S = input(\"Enter a comment: \")\n",
    "d = cv.transform([S]).toarray()\n",
    "prediction = model.predict(d)\n",
    "print(prediction)\n"
   ]
  }
 ],
 "metadata": {
  "kernelspec": {
   "display_name": "Python 3",
   "language": "python",
   "name": "python3"
  },
  "language_info": {
   "codemirror_mode": {
    "name": "ipython",
    "version": 3
   },
   "file_extension": ".py",
   "mimetype": "text/x-python",
   "name": "python",
   "nbconvert_exporter": "python",
   "pygments_lexer": "ipython3",
   "version": "3.12.3"
  }
 },
 "nbformat": 4,
 "nbformat_minor": 2
}
