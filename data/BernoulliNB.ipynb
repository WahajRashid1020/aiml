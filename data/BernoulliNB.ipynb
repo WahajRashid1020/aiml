{
 "cells": [
  {
   "cell_type": "code",
   "execution_count": 8,
   "metadata": {},
   "outputs": [
    {
     "name": "stdout",
     "output_type": "stream",
     "text": [
      "                                                   text                spam\n",
      "190   Have you tried a new social network TSU? This ...        SPAM COMMENT\n",
      "942   View 851.247.920<br /><br /> Best youtube Vide...        SPAM COMMENT\n",
      "462   Katy has the voice of gold. this video really ...        SPAM COMMENT\n",
      "101   they said this video are not deserve 2billion ...  NOT A SPAM COMMENT\n",
      "1896  Could you please check out my covers on my cha...        SPAM COMMENT\n",
      "957               Check out this playlist on YouTube:a﻿        SPAM COMMENT\n",
      "958                   Check out this video on YouTube:﻿        SPAM COMMENT\n",
      "978        Check out this playlist on YouTube: I tried﻿        SPAM COMMENT\n",
      "1774  You guys should check out this EXTRAORDINARY w...        SPAM COMMENT\n",
      "1417        COME SUBSCRIBE TO MY CHANNEL! ;-)  PLEASE!!        SPAM COMMENT\n",
      "1164               Check out this playlist on YouTube:﻿        SPAM COMMENT\n",
      "1489                         Hi I am from bangladesh 💜﻿  NOT A SPAM COMMENT\n",
      "1869                               shakira is the best!  NOT A SPAM COMMENT\n",
      "116                                  Made in china....﻿  NOT A SPAM COMMENT\n",
      "1694                                           Shakira﻿  NOT A SPAM COMMENT\n",
      "Accuracy: 0.8223642172523962\n",
      "Precision: 0.9909747292418772\n",
      "Recall: 0.6678832116788321\n",
      "F1-Score: 0.8415051311288484\n",
      "Confusion Matrix:\n",
      " [[738   5]\n",
      " [273 549]]\n",
      "['NOT A SPAM COMMENT']\n"
     ]
    }
   ],
   "source": [
    "import pandas as pd\n",
    "import numpy as np\n",
    "from sklearn.feature_extraction.text import CountVectorizer\n",
    "from sklearn.model_selection import train_test_split\n",
    "from sklearn.naive_bayes import BernoulliNB\n",
    "from sklearn.metrics import accuracy_score, precision_score, recall_score, f1_score, confusion_matrix\n",
    "\n",
    "data = pd.read_csv(\"sampl.csv\")  \n",
    "\n",
    "data = data[['text','spam']]\n",
    "\n",
    "data[\"spam\"] = data['spam'].map({0:'NOT A SPAM COMMENT', 1: 'SPAM COMMENT'})\n",
    "print(data.sample(15))\n",
    "\n",
    "x = np.array(data['text'])\n",
    "y = np.array(data['spam'])\n",
    "\n",
    "\n",
    "cv = CountVectorizer()\n",
    "x = cv.fit_transform(x)\n",
    "xtrain, xtest, ytrain, ytest = train_test_split(x,y,train_size=0.2,random_state= 42)\n",
    "\n",
    "model = BernoulliNB()\n",
    "model.fit(xtrain,ytrain)\n",
    "\n",
    "ypred = model.predict(xtest)\n",
    "\n",
    "print(\"Accuracy:\", accuracy_score(ytest, ypred))\n",
    "print(\"Precision:\", precision_score(ytest, ypred, pos_label='SPAM COMMENT'))    \n",
    "print(\"Recall:\", recall_score(ytest, ypred, pos_label='SPAM COMMENT'))\n",
    "print(\"F1-Score:\", f1_score(ytest, ypred, pos_label='NOT A SPAM COMMENT'))\n",
    "print(\"Confusion Matrix:\\n\", confusion_matrix(ytest, ypred))\n",
    "\n",
    "\n",
    "S = input(\"Enter a comment : \")\n",
    "d = cv.transform([S]).toarray()\n",
    "print(model.predict(d))"
   ]
  }
 ],
 "metadata": {
  "kernelspec": {
   "display_name": "Python 3",
   "language": "python",
   "name": "python3"
  },
  "language_info": {
   "codemirror_mode": {
    "name": "ipython",
    "version": 3
   },
   "file_extension": ".py",
   "mimetype": "text/x-python",
   "name": "python",
   "nbconvert_exporter": "python",
   "pygments_lexer": "ipython3",
   "version": "3.12.3"
  }
 },
 "nbformat": 4,
 "nbformat_minor": 2
}
