{
 "cells": [
  {
   "cell_type": "code",
   "execution_count": 3,
   "metadata": {},
   "outputs": [
    {
     "name": "stdout",
     "output_type": "stream",
     "text": [
      "                                                   text                spam\n",
      "5454  Subject: re : dr . michelle foss - energy inst...  NOT A SPAM COMMENT\n",
      "5115  Subject: grades  pam ,  another team :  elena ...  NOT A SPAM COMMENT\n",
      "5448  Subject: engineering meetings in broomfield co...  NOT A SPAM COMMENT\n",
      "1096  Subject: viagra is it the right medication for...        SPAM COMMENT\n",
      "2611  Subject: co - integration  zimin ,  andrea ree...  NOT A SPAM COMMENT\n",
      "3429  Subject: re : mg integration support - daily u...  NOT A SPAM COMMENT\n",
      "4841  Subject: network design optimization .  fyi , ...  NOT A SPAM COMMENT\n",
      "688   Subject: save your money buy getting this thin...        SPAM COMMENT\n",
      "5634  Subject: summer part time employee  add her to...  NOT A SPAM COMMENT\n",
      "1936  Subject: financial mathematics grad from u of ...  NOT A SPAM COMMENT\n",
      "927   Subject: julie invites you to her free webcam ...        SPAM COMMENT\n",
      "950   Subject: lock in your clients ' gains !  a win...        SPAM COMMENT\n",
      "350   Subject: we are the only online pharmacy offer...        SPAM COMMENT\n",
      "2213  Subject: re : conference : monetary policy in ...  NOT A SPAM COMMENT\n",
      "4014  Subject: prc review : list of key projects  hi...  NOT A SPAM COMMENT\n",
      "Accuracy: 0.9887\n",
      "Prediction: SPAM COMMENT\n"
     ]
    }
   ],
   "source": [
    "import pandas as pd\n",
    "import numpy as np\n",
    "from sklearn.feature_extraction.text import CountVectorizer\n",
    "from sklearn.model_selection import train_test_split\n",
    "from sklearn.linear_model import LogisticRegression\n",
    "from sklearn.metrics import accuracy_score\n",
    "\n",
    "# Load the dataset\n",
    "data = pd.read_csv(\"emails.csv\") \n",
    "\n",
    "# Keep only the required columns\n",
    "data = data[['text', 'spam']]\n",
    "\n",
    "# Map 0 to 'NOT A SPAM COMMENT' and 1 to 'SPAM COMMENT'\n",
    "data[\"spam\"] = data['spam'].map({0: 'NOT A SPAM COMMENT', 1: 'SPAM COMMENT'})\n",
    "print(data.sample(15))\n",
    "\n",
    "# Prepare the features and labels\n",
    "x = np.array(data['text'])\n",
    "y = np.array(data['spam'])\n",
    "\n",
    "# Convert text data into numerical data using CountVectorizer\n",
    "cv = CountVectorizer()\n",
    "x = cv.fit_transform(x)\n",
    "\n",
    "# Split the dataset into training and testing sets\n",
    "x_train, x_test, y_train, y_test = train_test_split(x, y, test_size=0.2, random_state=42)\n",
    "\n",
    "# Initialize and train the Logistic Regression model\n",
    "model = LogisticRegression()\n",
    "model.fit(x_train, y_train)\n",
    "\n",
    "# Evaluate the model\n",
    "y_pred = model.predict(x_test)\n",
    "accuracy = accuracy_score(y_test, y_pred)\n",
    "print(f\"Accuracy: {accuracy:.4f}\")\n",
    "\n",
    "# Predict the class of a new comment\n",
    "S = input(\"Enter a comment: \")\n",
    "d = cv.transform([S]).toarray()\n",
    "prediction = model.predict(d)\n",
    "print(f\"Prediction: {'SPAM COMMENT' if prediction[0] == 'SPAM COMMENT' else 'NOT A SPAM COMMENT'}\")\n"
   ]
  }
 ],
 "metadata": {
  "kernelspec": {
   "display_name": "Python 3",
   "language": "python",
   "name": "python3"
  },
  "language_info": {
   "codemirror_mode": {
    "name": "ipython",
    "version": 3
   },
   "file_extension": ".py",
   "mimetype": "text/x-python",
   "name": "python",
   "nbconvert_exporter": "python",
   "pygments_lexer": "ipython3",
   "version": "3.12.3"
  }
 },
 "nbformat": 4,
 "nbformat_minor": 2
}
